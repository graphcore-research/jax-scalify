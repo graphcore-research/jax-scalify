{
 "cells": [
  {
   "cell_type": "code",
   "execution_count": 1,
   "id": "3c00caf9-c0cb-4052-8b2d-07f57b93c573",
   "metadata": {},
   "outputs": [],
   "source": [
    "import jax\n",
    "import chex\n",
    "import time\n",
    "\n",
    "import numpy as np\n",
    "import jax.numpy as jnp"
   ]
  },
  {
   "cell_type": "code",
   "execution_count": 2,
   "id": "175d510c-4c7b-4055-a5f6-497f77bc4fee",
   "metadata": {},
   "outputs": [],
   "source": [
    "assert jax.__version__ >= \"0.4.30\""
   ]
  },
  {
   "cell_type": "code",
   "execution_count": 3,
   "id": "b9a1268d-8120-4d63-93ff-708f2f237ff5",
   "metadata": {},
   "outputs": [
    {
     "data": {
      "text/plain": [
       "[cuda(id=0),\n",
       " cuda(id=1),\n",
       " cuda(id=2),\n",
       " cuda(id=3),\n",
       " cuda(id=4),\n",
       " cuda(id=5),\n",
       " cuda(id=6),\n",
       " cuda(id=7)]"
      ]
     },
     "execution_count": 3,
     "metadata": {},
     "output_type": "execute_result"
    }
   ],
   "source": [
    "jax.devices()"
   ]
  },
  {
   "cell_type": "code",
   "execution_count": null,
   "id": "b9a4efb9-3aeb-48c0-bc0b-18eed19c9621",
   "metadata": {},
   "outputs": [],
   "source": []
  },
  {
   "cell_type": "code",
   "execution_count": 4,
   "id": "2f86c111-92a6-47db-8673-aa57cbc5aa93",
   "metadata": {},
   "outputs": [],
   "source": [
    "import json\n",
    "from dataclasses import dataclass\n",
    "from typing import Any\n",
    "\n",
    "\n",
    "@dataclass\n",
    "class HloCommandInfo:\n",
    "    cmd: str\n",
    "    metadata: str\n",
    "    backend_config: str\n",
    "\n",
    "\n",
    "def parse_hlo_command_line(raw_line: str):\n",
    "    \"\"\"Very crude and ugly parsing of an HLO command line!\n",
    "    \"\"\"\n",
    "    metadata: str = None\n",
    "    backend_cfg = None\n",
    "    \n",
    "    # Parse \"metadata={...}\" block.\n",
    "    metadata_prefix = \", metadata={\"\n",
    "    lidx = raw_line.find(metadata_prefix)\n",
    "    if lidx >= 0:\n",
    "        ridx = raw_line[lidx:].find(\"}\") + lidx\n",
    "        metadata = raw_line[lidx:ridx+1]\n",
    "        raw_line = raw_line.replace(metadata, \"\")\n",
    "        metadata = metadata[2:]\n",
    "\n",
    "    # Parse \"backend_config={...}\" block.\n",
    "    backend_cfg_prefix = \", backend_config=\"\n",
    "    lidx = raw_line.find(backend_cfg_prefix)\n",
    "    # print(raw_line)\n",
    "    if lidx >= 0:\n",
    "        backend_cfg_str = raw_line[lidx + len(backend_cfg_prefix):] \n",
    "        # print(raw_line[lidx + len(backend_cfg_prefix):])\n",
    "        backend_cfg = json.loads(backend_cfg_str)\n",
    "        raw_line = raw_line[:lidx]\n",
    "    \n",
    "    # return (raw_line, metadata, None)\n",
    "    return HloCommandInfo(raw_line, metadata, backend_cfg)\n",
    "\n",
    "\n",
    "def parse_hlo_module(module: Any) -> list[HloCommandInfo]:\n",
    "    \"\"\"Parse an HLO module, to be human-readable!\n",
    "\n",
    "    Note: `m.hlo_modules()[0].computations()[0].render_html()`\n",
    "        is generating HTML output.\n",
    "\n",
    "    Args:\n",
    "        module: HLO module or JAX stages compiled instance.\n",
    "    Returns:\n",
    "        List of HLO command info.\n",
    "    \"\"\"\n",
    "    module_txt = module.as_text()\n",
    "    module_lines = module_txt.split(\"\\n\")\n",
    "    cmds = [parse_hlo_command_line(l) for l in module_lines]\n",
    "    return cmds\n",
    "\n",
    "def print_hlo_module(module: Any, metadata: bool = False, backend_cfg: bool = False):\n",
    "    \"\"\"Human-readable HLO module printing.\n",
    "    \"\"\"\n",
    "    cmds = parse_hlo_module(module)\n",
    "    for c in cmds:\n",
    "        print(c.cmd)\n",
    "        if backend_cfg and c.backend_config:\n",
    "            print(\"backend_cfg: \", json.dumps(c.backend_config, indent=4))\n",
    "\n"
   ]
  },
  {
   "cell_type": "code",
   "execution_count": null,
   "id": "c567b00d-6110-413e-8949-10110e724c52",
   "metadata": {},
   "outputs": [],
   "source": []
  },
  {
   "cell_type": "code",
   "execution_count": 5,
   "id": "682648f4-e336-49d3-bcdb-ae07869db39d",
   "metadata": {},
   "outputs": [],
   "source": [
    "M, N, K = 128, 128, 128"
   ]
  },
  {
   "cell_type": "code",
   "execution_count": 6,
   "id": "a654f67a-632b-4dc8-b3a6-90f91d23a67c",
   "metadata": {},
   "outputs": [],
   "source": [
    "a = np.random.randn(M, K).astype(np.float32)\n",
    "b = np.random.randn(K, N).astype(np.float32)"
   ]
  },
  {
   "cell_type": "code",
   "execution_count": 7,
   "id": "0f761a55-bfbc-4bd0-a8fe-b3f50f8751a7",
   "metadata": {},
   "outputs": [
    {
     "name": "stderr",
     "output_type": "stream",
     "text": [
      "2024-07-16 09:10:48.849079: W external/xla/xla/service/gpu/nvptx_compiler.cc:765] The NVIDIA driver's CUDA version is 12.2 which is older than the ptxas CUDA version (12.5.82). Because the driver is older than the ptxas version, XLA is disabling parallel compilation, which may slow down compilation. You should update your NVIDIA driver or use the NVIDIA-provided CUDA forward compatibility packages.\n"
     ]
    }
   ],
   "source": [
    "adtype = jnp.float8_e4m3fn\n",
    "bdtype = jnp.float8_e4m3fn\n",
    "bdtype = jnp.float8_e4m3fn\n",
    "dtype = jnp.float16\n",
    "\n",
    "a = jax.device_put(a).astype(adtype)\n",
    "b = jax.device_put(b).astype(bdtype)"
   ]
  },
  {
   "cell_type": "code",
   "execution_count": 8,
   "id": "3e64f252-2260-4243-82ba-e4eb035612f5",
   "metadata": {},
   "outputs": [],
   "source": [
    "# @jax.jit\n",
    "def matmul_fn(a_fp8, b_fp8, scale):\n",
    "    # indtype = np.float32\n",
    "    # d = jax.lax.dot(a_fp8.astype(indtype) * indtype(4), \n",
    "    #                 b_fp8.astype(indtype) * indtype(2),\n",
    "    #                precision=\"fastest\")\n",
    "    # d = d * jnp.float16(a_fp8[0,0])\n",
    "    d = jax.lax.dot(a_fp8, b_fp8)\n",
    "    \n",
    "    # d = d * jnp.float8_e4m3fn(b_fp8[0,0])\n",
    "    # d = (d * scale).astype(jnp.float8_e4m3fn)\n",
    "\n",
    "    \n",
    "    return d"
   ]
  },
  {
   "cell_type": "code",
   "execution_count": 9,
   "id": "48693007-d47d-4e82-ba4b-f3e45a47be97",
   "metadata": {},
   "outputs": [
    {
     "data": {
      "text/plain": [
       "Array([[15, -8, -12, ..., -5.5, -2, -9],\n",
       "       [-2.5, 4.5, -2.5, ..., -0.5625, -32, -5.5],\n",
       "       [16, 3.75, 14, ..., -1.625, 8, 28],\n",
       "       ...,\n",
       "       [0.4375, -6, -1, ..., -7.5, -9, 2],\n",
       "       [-1.5, 16, 18, ..., 12, -18, 7.5],\n",
       "       [-0.75, 2.75, 3.25, ..., 0.0390625, 1.75, -1.375]],      dtype=float8_e4m3fn)"
      ]
     },
     "execution_count": 9,
     "metadata": {},
     "output_type": "execute_result"
    }
   ],
   "source": [
    "scale = np.float32(8)\n",
    "\n",
    "matmul_fn(a, b, scale)"
   ]
  },
  {
   "cell_type": "code",
   "execution_count": 10,
   "id": "aaff1b63-ba5f-4bbc-aaad-5dc447580ec8",
   "metadata": {},
   "outputs": [],
   "source": [
    "# jax.lax.dot?"
   ]
  },
  {
   "cell_type": "code",
   "execution_count": 11,
   "id": "73c0eaa3-5bff-4d16-889d-1e00ac7f263f",
   "metadata": {},
   "outputs": [
    {
     "name": "stdout",
     "output_type": "stream",
     "text": [
      "module @jit_matmul_fn attributes {mhlo.num_partitions = 1 : i32, mhlo.num_replicas = 1 : i32} {\n",
      "  func.func public @main(%arg0: tensor<128x128xf8E4M3FN> {mhlo.layout_mode = \"default\"}, %arg1: tensor<128x128xf8E4M3FN> {mhlo.layout_mode = \"default\"}) -> (tensor<128x128xf8E4M3FN> {jax.result_info = \"\", mhlo.layout_mode = \"default\"}) {\n",
      "    %0 = stablehlo.dot_general %arg0, %arg1, contracting_dims = [1] x [0], precision = [DEFAULT, DEFAULT] : (tensor<128x128xf8E4M3FN>, tensor<128x128xf8E4M3FN>) -> tensor<128x128xf8E4M3FN>\n",
      "    return %0 : tensor<128x128xf8E4M3FN>\n",
      "  }\n",
      "}\n",
      "\n"
     ]
    }
   ],
   "source": [
    "lowered = jax.jit(matmul_fn).lower(a, b, scale)\n",
    "compiled = jax.jit(matmul_fn).lower(a, b, scale).compile()\n",
    "\n",
    "print(lowered.as_text())"
   ]
  },
  {
   "cell_type": "code",
   "execution_count": 12,
   "id": "0d8c86c3-16ad-443a-a436-351f2a6e41a7",
   "metadata": {},
   "outputs": [
    {
     "name": "stdout",
     "output_type": "stream",
     "text": [
      "HloModule jit_matmul_fn, is_scheduled=true, entry_computation_layout={(f8e4m3fn[128,128]{1,0}, f8e4m3fn[128,128]{1,0})->f8e4m3fn[128,128]{1,0}}, allow_spmd_sharding_propagation_to_parameters={true,true}, allow_spmd_sharding_propagation_to_output={true}, frontend_attributes={fingerprint_before_lhs=\"83c0401cb9ecb5354a8d67d8e531643a\"}\n",
      "\n",
      "%wrapped_transpose_computation (param_0: f8e4m3fn[128,128]) -> f8e4m3fn[128,128] {\n",
      "  %param_0 = f8e4m3fn[128,128]{1,0} parameter(0)\n",
      "  ROOT %transpose.1.1 = f8e4m3fn[128,128]{1,0} transpose(f8e4m3fn[128,128]{1,0} %param_0), dimensions={1,0}\n",
      "}\n",
      "\n",
      "ENTRY %main.4 (Arg_0.1.0: f8e4m3fn[128,128], Arg_1.2.0: f8e4m3fn[128,128]) -> f8e4m3fn[128,128] {\n",
      "  %constant_1 = f32[] constant(1)\n",
      "  %Arg_1.2.0 = f8e4m3fn[128,128]{1,0} parameter(1)\n",
      "  %Arg_0.1.0 = f8e4m3fn[128,128]{1,0} parameter(0)\n",
      "  %wrapped_transpose = f8e4m3fn[128,128]{1,0} fusion(f8e4m3fn[128,128]{1,0} %Arg_1.2.0), kind=kInput, calls=%wrapped_transpose_computation\n",
      "  %cublas-gemm.1.0 = (f8e4m3fn[128,128]{1,0}, s8[33554432]{0}) custom-call(f8e4m3fn[128,128]{1,0} %Arg_0.1.0, f8e4m3fn[128,128]{1,0} %wrapped_transpose, f32[] %constant_1, f32[] %constant_1, f32[] %constant_1, /*index=5*/f32[] %constant_1), custom_call_target=\"__cublas$lt$matmul$f8\"\n",
      "backend_cfg:  {\n",
      "    \"operation_queue_id\": \"0\",\n",
      "    \"wait_on_operation_queues\": [],\n",
      "    \"gemm_backend_config\": {\n",
      "        \"alpha_real\": 1,\n",
      "        \"alpha_imag\": 0,\n",
      "        \"beta\": 0,\n",
      "        \"dot_dimension_numbers\": {\n",
      "            \"lhs_contracting_dimensions\": [\n",
      "                \"1\"\n",
      "            ],\n",
      "            \"rhs_contracting_dimensions\": [\n",
      "                \"1\"\n",
      "            ],\n",
      "            \"lhs_batch_dimensions\": [],\n",
      "            \"rhs_batch_dimensions\": []\n",
      "        },\n",
      "        \"precision_config\": {\n",
      "            \"operand_precision\": [\n",
      "                \"DEFAULT\",\n",
      "                \"DEFAULT\"\n",
      "            ],\n",
      "            \"algorithm\": \"ALG_UNSET\"\n",
      "        },\n",
      "        \"epilogue\": \"DEFAULT\",\n",
      "        \"damax_output\": false,\n",
      "        \"selected_algorithm\": \"2\",\n",
      "        \"lhs_stride\": \"16384\",\n",
      "        \"rhs_stride\": \"16384\",\n",
      "        \"grad_x\": false,\n",
      "        \"grad_y\": false\n",
      "    },\n",
      "    \"force_earliest_schedule\": false\n",
      "}\n",
      "  ROOT %get-tuple-element.1 = f8e4m3fn[128,128]{1,0} get-tuple-element((f8e4m3fn[128,128]{1,0}, s8[33554432]{0}) %cublas-gemm.1.0), index=0\n",
      "}\n",
      "\n",
      "\n"
     ]
    }
   ],
   "source": [
    "print_hlo_module(compiled, backend_cfg=True)"
   ]
  },
  {
   "cell_type": "code",
   "execution_count": 13,
   "id": "3f14efb1-b10b-4588-845b-961d756bf67a",
   "metadata": {},
   "outputs": [
    {
     "data": {
      "text/plain": [
       "\u001b[0;31mSignature:\u001b[0m \u001b[0mjax\u001b[0m\u001b[0;34m.\u001b[0m\u001b[0mlax\u001b[0m\u001b[0;34m.\u001b[0m\u001b[0mclamp\u001b[0m\u001b[0;34m(\u001b[0m\u001b[0mmin\u001b[0m\u001b[0;34m:\u001b[0m \u001b[0;34m'ArrayLike'\u001b[0m\u001b[0;34m,\u001b[0m \u001b[0mx\u001b[0m\u001b[0;34m:\u001b[0m \u001b[0;34m'ArrayLike'\u001b[0m\u001b[0;34m,\u001b[0m \u001b[0mmax\u001b[0m\u001b[0;34m:\u001b[0m \u001b[0;34m'ArrayLike'\u001b[0m\u001b[0;34m)\u001b[0m \u001b[0;34m->\u001b[0m \u001b[0;34m'Array'\u001b[0m\u001b[0;34m\u001b[0m\u001b[0;34m\u001b[0m\u001b[0m\n",
       "\u001b[0;31mDocstring:\u001b[0m\n",
       "Elementwise clamp.\n",
       "\n",
       "Returns :math:`\\mathrm{clamp}(x) = \\begin{cases}\n",
       "\\mathit{min} & \\text{if } x < \\mathit{min},\\\\\n",
       "\\mathit{max} & \\text{if } x > \\mathit{max},\\\\\n",
       "x & \\text{otherwise}\n",
       "\\end{cases}`.\n",
       "\u001b[0;31mFile:\u001b[0m      ~/paulb/env/lib/python3.10/site-packages/jax/_src/lax/lax.py\n",
       "\u001b[0;31mType:\u001b[0m      function"
      ]
     },
     "metadata": {},
     "output_type": "display_data"
    }
   ],
   "source": [
    "jax.lax.clamp?"
   ]
  },
  {
   "cell_type": "code",
   "execution_count": null,
   "id": "02f53149-44e8-441e-ac01-9bad3241113d",
   "metadata": {},
   "outputs": [],
   "source": []
  },
  {
   "cell_type": "code",
   "execution_count": 81,
   "id": "b26193c8-c0d4-44a0-a568-0d3dc74f82df",
   "metadata": {},
   "outputs": [],
   "source": [
    "def quantized_matmul(x_fp8, y_fp8, x_scale, y_scale, z_scale):\n",
    "    # Dequantize x and y\n",
    "    f32_x = x_fp8.astype(np.float32) * x_scale\n",
    "    f32_y = y_fp8.astype(np.float32) * y_scale    \n",
    "    # Do the matmul\n",
    "    z = jax.lax.dot(f32_x, f32_y.transpose())\n",
    "    # New z scale (delayed scaling)\n",
    "    new_z_scale = jax.lax.reduce_max_p.bind(jax.lax.abs(z), axes=(0, 1))\n",
    "    # Rescale & clamp.\n",
    "    z = jax.lax.clamp(np.float32(-448), z * z_scale, np.float32(448))\n",
    "    # Quantize the matmul output with the old scale\n",
    "    return jax.lax.convert_element_type(z, jnp.float8_e4m3fn), new_z_scale\n",
    "    "
   ]
  },
  {
   "cell_type": "code",
   "execution_count": 162,
   "id": "4eca74ee-8e06-450a-a702-30bbdba2be8e",
   "metadata": {},
   "outputs": [],
   "source": [
    "# x_scale = np.float32(2)\n",
    "# y_scale = np.float32(4)\n",
    "# z_scale = np.float32(8)\n",
    "\n",
    "# qn_lowered = jax.jit(quantized_matmul).lower(a, b, x_scale, y_scale, z_scale)\n",
    "# qn_compiled = jax.jit(quantized_matmul).lower(a, b, x_scale, y_scale, z_scale).compile()\n",
    "\n",
    "# print(qn_lowered.as_text())"
   ]
  },
  {
   "cell_type": "code",
   "execution_count": 83,
   "id": "df135b19-72a1-4c0e-b6c3-bb66ed38fdc4",
   "metadata": {},
   "outputs": [
    {
     "name": "stdout",
     "output_type": "stream",
     "text": [
      "HloModule jit_quantized_matmul, is_scheduled=true, entry_computation_layout={(f8e4m3fn[16384,16384]{1,0}, f8e4m3fn[16384,16384]{1,0}, f32[], f32[], f32[])->(f8e4m3fn[16384,16384]{1,0}, f32[])}, allow_spmd_sharding_propagation_to_parameters={true,true,true,true,true}, allow_spmd_sharding_propagation_to_output={true,true}, frontend_attributes={fingerprint_before_lhs=\"e083e0b370ca39ac0683bf3914414d9f\"}\n",
      "\n",
      "ENTRY %main.30 (Arg_0.1.0: f8e4m3fn[16384,16384], Arg_1.2.0: f8e4m3fn[16384,16384], Arg_2.3.0: f32[], Arg_3.4.0: f32[], Arg_4.5.0: f32[]) -> (f8e4m3fn[16384,16384], f32[]) {\n",
      "  %constant_1 = f32[] constant(1)\n",
      "  %Arg_4.5.0 = f32[] parameter(4)\n",
      "  %Arg_3.4.0 = f32[] parameter(3)\n",
      "  %Arg_2.3.0 = f32[] parameter(2)\n",
      "  %Arg_1.2.0 = f8e4m3fn[16384,16384]{1,0} parameter(1)\n",
      "  %Arg_0.1.0 = f8e4m3fn[16384,16384]{1,0} parameter(0)\n",
      "  %cublas-gemm.clone.1.0 = (f8e4m3fn[16384,16384]{1,0}, f32[], s8[33554432]{0}) custom-call(f8e4m3fn[16384,16384]{1,0} %Arg_0.1.0, f8e4m3fn[16384,16384]{1,0} %Arg_1.2.0, f32[] %Arg_2.3.0, f32[] %Arg_3.4.0, f32[] %constant_1, /*index=5*/f32[] %Arg_4.5.0), custom_call_target=\"__cublas$lt$matmul$f8\"\n",
      "backend_cfg:  {\n",
      "    \"operation_queue_id\": \"0\",\n",
      "    \"wait_on_operation_queues\": [],\n",
      "    \"gemm_backend_config\": {\n",
      "        \"alpha_real\": 1,\n",
      "        \"alpha_imag\": 0,\n",
      "        \"beta\": 0,\n",
      "        \"dot_dimension_numbers\": {\n",
      "            \"lhs_contracting_dimensions\": [\n",
      "                \"1\"\n",
      "            ],\n",
      "            \"rhs_contracting_dimensions\": [\n",
      "                \"1\"\n",
      "            ],\n",
      "            \"lhs_batch_dimensions\": [],\n",
      "            \"rhs_batch_dimensions\": []\n",
      "        },\n",
      "        \"precision_config\": {\n",
      "            \"operand_precision\": [\n",
      "                \"DEFAULT\",\n",
      "                \"DEFAULT\"\n",
      "            ],\n",
      "            \"algorithm\": \"ALG_UNSET\"\n",
      "        },\n",
      "        \"epilogue\": \"DEFAULT\",\n",
      "        \"damax_output\": true,\n",
      "        \"selected_algorithm\": \"0\",\n",
      "        \"lhs_stride\": \"268435456\",\n",
      "        \"rhs_stride\": \"268435456\",\n",
      "        \"grad_x\": false,\n",
      "        \"grad_y\": false\n",
      "    },\n",
      "    \"force_earliest_schedule\": false\n",
      "}\n",
      "  %get-tuple-element.1.0 = f32[] get-tuple-element((f8e4m3fn[16384,16384]{1,0}, f32[], s8[33554432]{0}) %cublas-gemm.clone.1.0), index=1\n",
      "  %get-tuple-element.4 = f8e4m3fn[16384,16384]{1,0} get-tuple-element((f8e4m3fn[16384,16384]{1,0}, f32[], s8[33554432]{0}) %cublas-gemm.clone.1.0), index=0\n",
      "  ROOT %tuple.29.0 = (f8e4m3fn[16384,16384]{1,0}, f32[]) tuple(f8e4m3fn[16384,16384]{1,0} %get-tuple-element.4, f32[] %get-tuple-element.1.0)\n",
      "}\n",
      "\n",
      "\n"
     ]
    }
   ],
   "source": [
    "# print_hlo_module(qn_compiled, backend_cfg=True)"
   ]
  },
  {
   "cell_type": "code",
   "execution_count": 84,
   "id": "61634513-4e01-4951-b678-b2448579cf26",
   "metadata": {},
   "outputs": [],
   "source": [
    "# compiled.cost_analysis()"
   ]
  },
  {
   "cell_type": "code",
   "execution_count": 85,
   "id": "495a0f3e-cf19-45eb-8687-f3e6966dce6a",
   "metadata": {},
   "outputs": [],
   "source": [
    "# import jax; jax.print_environment_info()"
   ]
  },
  {
   "cell_type": "code",
   "execution_count": 86,
   "id": "558161f1-8dd6-499f-85b0-747c144f028e",
   "metadata": {},
   "outputs": [],
   "source": [
    "# jax._src.lib.xla_extension_version"
   ]
  },
  {
   "cell_type": "code",
   "execution_count": 216,
   "id": "6ac2f022-e73f-4f2d-b563-cdaa11b17dbe",
   "metadata": {},
   "outputs": [],
   "source": [
    "s = 2\n",
    "M, N, K = 128, 128, 128\n",
    "M, N, K = 2048, 2048, 2048\n",
    "# M, N, K = 2048*s, 2048*s, 2048*s\n",
    "\n",
    "# M = 3456 * s\n",
    "# N = 4096 * s\n",
    "# K = 8192 * s\n",
    "\n",
    "M = 8192 * 1\n",
    "N = 8192 * 1\n",
    "K = 8192 * 1\n",
    "\n",
    "# a = np.random.randn(M, K).astype(np.float32)\n",
    "# # # b = np.random.randn(K, N).astype(np.float32)\n",
    "# b = np.random.randn(N, K).astype(np.float32)\n",
    "\n",
    "a = np.random.randn(M, K).astype(np.float32) / 16\n",
    "# # b = np.random.randn(K, N).astype(np.float32)\n",
    "b = np.random.randn(N, K).astype(np.float32) / 16\n",
    "\n",
    "a = np.zeros((M, K), dtype=np.float32)\n",
    "b = np.zeros((N, K), dtype=np.float32)\n",
    "\n",
    "adtype = jnp.float8_e4m3fn\n",
    "bdtype = jnp.float8_e4m3fn\n",
    "# adtype = jnp.float16\n",
    "# bdtype = jnp.float16\n",
    "# bdtype = jnp.float8_e4m3fn\n",
    "# dtype = jnp.float16\n",
    "\n",
    "a = jax.device_put(a).astype(adtype)\n",
    "b = jax.device_put(b).astype(bdtype)\n",
    "# out = jax.device_put(b).astype(bdtype)"
   ]
  },
  {
   "cell_type": "code",
   "execution_count": 241,
   "id": "0911bb94-a5bd-486d-bd94-c1b228d084a4",
   "metadata": {},
   "outputs": [
    {
     "name": "stdout",
     "output_type": "stream",
     "text": [
      "module @jit_matmul_fn attributes {mhlo.num_partitions = 1 : i32, mhlo.num_replicas = 1 : i32} {\n",
      "  func.func public @main(%arg0: tensor<8192x8192xf8E4M3FN> {mhlo.layout_mode = \"default\"}, %arg1: tensor<8192x8192xf8E4M3FN> {mhlo.layout_mode = \"default\"}) -> (tensor<8192x8192xf8E4M3FN> {jax.result_info = \"\", mhlo.layout_mode = \"default\"}) {\n",
      "    %0 = stablehlo.transpose %arg1, dims = [1, 0] : (tensor<8192x8192xf8E4M3FN>) -> tensor<8192x8192xf8E4M3FN>\n",
      "    %1 = stablehlo.dot_general %arg0, %0, contracting_dims = [1] x [0], precision = [DEFAULT, DEFAULT] : (tensor<8192x8192xf8E4M3FN>, tensor<8192x8192xf8E4M3FN>) -> tensor<8192x8192xf8E4M3FN>\n",
      "    return %1 : tensor<8192x8192xf8E4M3FN>\n",
      "  }\n",
      "}\n",
      "\n",
      "HloModule jit_matmul_fn_amax, is_scheduled=true, entry_computation_layout={(f8e4m3fn[8192,8192]{1,0}, f8e4m3fn[8192,8192]{1,0})->(f8e4m3fn[8192,8192]{1,0}, f32[])}, allow_spmd_sharding_propagation_to_parameters={true,true}, allow_spmd_sharding_propagation_to_output={true,true}, frontend_attributes={fingerprint_before_lhs=\"101acb9a1e753c8bf579f6cba4f59bb8\"}\n",
      "\n",
      "ENTRY %main.30 (Arg_0.1.0: f8e4m3fn[8192,8192], Arg_1.2.0: f8e4m3fn[8192,8192]) -> (f8e4m3fn[8192,8192], f32[]) {\n",
      "  %constant_1 = f32[] constant(1)\n",
      "  %constant_11_0 = f32[] constant(0.5)\n",
      "  %constant_9_0 = f32[] constant(0.25)\n",
      "  %constant_7_0 = f32[] constant(0.125)\n",
      "  %Arg_1.2.0 = f8e4m3fn[8192,8192]{1,0} parameter(1)\n",
      "  %Arg_0.1.0 = f8e4m3fn[8192,8192]{1,0} parameter(0)\n",
      "  %cublas-gemm.clone.1.0 = (f8e4m3fn[8192,8192]{1,0}, f32[], s8[33554432]{0}) custom-call(f8e4m3fn[8192,8192]{1,0} %Arg_0.1.0, f8e4m3fn[8192,8192]{1,0} %Arg_1.2.0, f32[] %constant_11_0, f32[] %constant_9_0, f32[] %constant_1, /*index=5*/f32[] %constant_7_0), custom_call_target=\"__cublas$lt$matmul$f8\"\n",
      "backend_cfg:  {\n",
      "    \"operation_queue_id\": \"0\",\n",
      "    \"wait_on_operation_queues\": [],\n",
      "    \"gemm_backend_config\": {\n",
      "        \"alpha_real\": 1,\n",
      "        \"alpha_imag\": 0,\n",
      "        \"beta\": 0,\n",
      "        \"dot_dimension_numbers\": {\n",
      "            \"lhs_contracting_dimensions\": [\n",
      "                \"1\"\n",
      "            ],\n",
      "            \"rhs_contracting_dimensions\": [\n",
      "                \"1\"\n",
      "            ],\n",
      "            \"lhs_batch_dimensions\": [],\n",
      "            \"rhs_batch_dimensions\": []\n",
      "        },\n",
      "        \"precision_config\": {\n",
      "            \"operand_precision\": [\n",
      "                \"DEFAULT\",\n",
      "                \"DEFAULT\"\n",
      "            ],\n",
      "            \"algorithm\": \"ALG_UNSET\"\n",
      "        },\n",
      "        \"epilogue\": \"DEFAULT\",\n",
      "        \"damax_output\": true,\n",
      "        \"selected_algorithm\": \"1\",\n",
      "        \"lhs_stride\": \"67108864\",\n",
      "        \"rhs_stride\": \"67108864\",\n",
      "        \"grad_x\": false,\n",
      "        \"grad_y\": false\n",
      "    },\n",
      "    \"force_earliest_schedule\": false\n",
      "}\n",
      "  %get-tuple-element.1.0 = f32[] get-tuple-element((f8e4m3fn[8192,8192]{1,0}, f32[], s8[33554432]{0}) %cublas-gemm.clone.1.0), index=1\n",
      "  %get-tuple-element.4 = f8e4m3fn[8192,8192]{1,0} get-tuple-element((f8e4m3fn[8192,8192]{1,0}, f32[], s8[33554432]{0}) %cublas-gemm.clone.1.0), index=0\n",
      "  ROOT %tuple.29.0 = (f8e4m3fn[8192,8192]{1,0}, f32[]) tuple(f8e4m3fn[8192,8192]{1,0} %get-tuple-element.4, f32[] %get-tuple-element.1.0)\n",
      "}\n",
      "\n",
      "\n"
     ]
    }
   ],
   "source": [
    "# @jax.jit\n",
    "def matmul_fn(a_fp8, b_fp8):\n",
    "    # out = jax.lax.dot(a_fp8, b_fp8.T, preferred_element_type=jnp.float16)\n",
    "    out = jax.lax.dot(a_fp8, b_fp8.T)\n",
    "    return out\n",
    "\n",
    "\n",
    "\n",
    "def matmul_fn_amax(x_fp8, y_fp8):\n",
    "    # Dequantize x and y\n",
    "    f32_x = x_fp8.astype(np.float32) * np.float32(0.5)\n",
    "    f32_y = y_fp8.astype(np.float32) * np.float32(0.25)    \n",
    "    # Do the matmul\n",
    "    z = jax.lax.dot(f32_x, f32_y.transpose())\n",
    "    # New z scale (delayed scaling)\n",
    "    new_z_scale = jax.lax.reduce_max_p.bind(jax.lax.abs(z), axes=(0, 1))\n",
    "    # Rescale & clamp.\n",
    "    z = jax.lax.clamp(np.float32(-448), z * np.float32(0.125), np.float32(448))\n",
    "    # Quantize the matmul output with the old scale\n",
    "    z = jax.lax.convert_element_type(z, jnp.float8_e4m3fn)\n",
    "    return z, new_z_scale\n",
    "\n",
    "matmul_compiled = jax.jit(matmul_fn_amax).lower(a, b).compile()\n",
    "\n",
    "print(jax.jit(matmul_fn).lower(a, b).as_text())\n",
    "print_hlo_module(matmul_compiled, backend_cfg=True)"
   ]
  },
  {
   "cell_type": "code",
   "execution_count": 218,
   "id": "1ef7133f-cf85-4d05-a896-f9d9bc50684a",
   "metadata": {},
   "outputs": [],
   "source": [
    "# NUM = 100\n",
    "# start = time.time()\n",
    "# outputs = [matmul_compiled(a, b, out).block_until_ready() for idx in range(NUM)]\n",
    "# # outputs = [v.block_until_ready() for v in outputs]\n",
    "# end = time.time()"
   ]
  },
  {
   "cell_type": "code",
   "execution_count": 219,
   "id": "ec71bd40-bfab-4613-a146-c2d80484e03d",
   "metadata": {},
   "outputs": [],
   "source": [
    "# flops = 2 * M * K * N\n",
    "# tflops = flops / (end - start) * NUM / 1e12\n",
    "# print(\"TFlops:\", tflops)"
   ]
  },
  {
   "cell_type": "code",
   "execution_count": null,
   "id": "e3c9257d-6aeb-4708-aa89-1e48571f52bf",
   "metadata": {},
   "outputs": [],
   "source": []
  },
  {
   "cell_type": "code",
   "execution_count": 220,
   "id": "f2713aa3-9821-4bda-8736-d48ca2598c2d",
   "metadata": {},
   "outputs": [],
   "source": [
    "from jax.experimental.mosaic.gpu import profiler"
   ]
  },
  {
   "cell_type": "code",
   "execution_count": 225,
   "id": "de6eb31b-fab2-42d8-8840-5fb459b8712e",
   "metadata": {},
   "outputs": [
    {
     "name": "stdout",
     "output_type": "stream",
     "text": [
      "Matmul TFlops: 1734.8146663992247 float8_e4m3fn float8_e4m3fn\n"
     ]
    }
   ],
   "source": [
    "# out, runtime_ms = profiler.measure(matmul_fn, a, b)\n",
    "out, runtime_ms = profiler.measure(matmul_fn_amax, a, b)\n",
    "runtime_s = 1e-3 * runtime_ms\n",
    "# runtime_ms\n",
    "#\n",
    "flops = 2 * M * K * N\n",
    "tflops = flops / runtime_s / 1e12\n",
    "print(\"Matmul TFlops:\", tflops, a.dtype, b.dtype)"
   ]
  },
  {
   "cell_type": "code",
   "execution_count": 226,
   "id": "1d004593-40fe-4661-9663-44d0a3e967d4",
   "metadata": {},
   "outputs": [
    {
     "data": {
      "text/plain": [
       "0.8766117566443783"
      ]
     },
     "execution_count": 226,
     "metadata": {},
     "output_type": "execute_result"
    }
   ],
   "source": [
    "tflops / (3958.0 / 2)"
   ]
  },
  {
   "cell_type": "code",
   "execution_count": 227,
   "id": "31f7ce93-8313-4b4a-a597-323fe2999d4c",
   "metadata": {},
   "outputs": [
    {
     "name": "stdout",
     "output_type": "stream",
     "text": [
      "(Array([[0, 0, 0, ..., 0, 0, 0],\n",
      "       [0, 0, 0, ..., 0, 0, 0],\n",
      "       [0, 0, 0, ..., 0, 0, 0],\n",
      "       ...,\n",
      "       [0, 0, 0, ..., 0, 0, 0],\n",
      "       [0, 0, 0, ..., 0, 0, 0],\n",
      "       [0, 0, 0, ..., 0, 0, 0]], dtype=float8_e4m3fn), Array(0., dtype=float32))\n"
     ]
    }
   ],
   "source": [
    "print(out)"
   ]
  },
  {
   "cell_type": "code",
   "execution_count": 296,
   "id": "4d2e0785-7199-4e7a-b158-8cfba9113ed3",
   "metadata": {},
   "outputs": [],
   "source": [
    "def matmul_fn_out_fp8(a_fp8, b_fp8):\n",
    "    out = jax.lax.dot(a_fp8, b_fp8.T)\n",
    "    return out\n",
    "\n",
    "def matmul_fn_out_fp8_high(a_fp8, b_fp8):\n",
    "    out = jax.lax.dot(a_fp8, b_fp8.T, precision=jax.lax.Precision.HIGH)\n",
    "    return out\n",
    "\n",
    "def matmul_fn_out_fp16(a_fp8, b_fp8):\n",
    "    out = jax.lax.dot(a_fp8, b_fp8.T, preferred_element_type=jnp.float16)\n",
    "    return out\n",
    "\n",
    "def matmul_fn_with_amax(x_fp8, y_fp8):\n",
    "    # Dequantize x and y\n",
    "    f32_x = x_fp8.astype(np.float32) * np.float32(0.5)\n",
    "    f32_y = y_fp8.astype(np.float32) * np.float32(0.25)    \n",
    "    # Do the matmul\n",
    "    z = jax.lax.dot(f32_x, f32_y.transpose())\n",
    "    # New z scale (delayed scaling)\n",
    "    new_z_scale = jax.lax.reduce_max_p.bind(jax.lax.abs(z), axes=(0, 1))\n",
    "    # Rescale & clamp.\n",
    "    z = jax.lax.clamp(np.float32(-448), z * np.float32(0.125), np.float32(448))\n",
    "    # Quantize the matmul output with the old scale\n",
    "    z = jax.lax.convert_element_type(z, jnp.float8_e4m3fn)\n",
    "    return z, new_z_scale"
   ]
  },
  {
   "cell_type": "code",
   "execution_count": 251,
   "id": "1c0b8a1e-3505-482e-8ba1-8ba4e051f4d9",
   "metadata": {},
   "outputs": [
    {
     "data": {
      "text/plain": [
       "array([  512,  1024,  2048,  4096,  8192, 16384, 32768])"
      ]
     },
     "execution_count": 251,
     "metadata": {},
     "output_type": "execute_result"
    }
   ],
   "source": [
    "sizes = np.array([512, 1024, 2048, 4096, 4096*2, 4096*4, 4096*8])\n",
    "sizes"
   ]
  },
  {
   "cell_type": "code",
   "execution_count": 357,
   "id": "7dc6c7fa-2c73-464d-86eb-12a34e9f2b70",
   "metadata": {},
   "outputs": [],
   "source": [
    "import jax\n",
    "\n",
    "def profile_matmul(sizes, matmul_function, zeros: bool=False):\n",
    "    tflops_list = []\n",
    "    tflops_list_std = []\n",
    "    num_tries = 100\n",
    "    \n",
    "    for K in sizes:\n",
    "        M, N = K, K\n",
    "        print(\"SIZE:\", K)\n",
    "        key = jax.random.key(K)\n",
    "\n",
    "        a = jax.random.normal(key, (M, K), dtype=jnp.float16) / 16\n",
    "        b = jax.random.normal(key, (K, N), dtype=jnp.float16) / 16\n",
    "\n",
    "        if zeros:\n",
    "            a = jnp.zeros((M, K), dtype=jnp.float16)\n",
    "            b = jnp.zeros((K, N), dtype=jnp.float16)\n",
    "        \n",
    "        adtype = jnp.float8_e4m3fn\n",
    "        bdtype = jnp.float8_e4m3fn\n",
    "        \n",
    "        a = jax.device_put(a).astype(adtype)\n",
    "        b = jax.device_put(b).astype(bdtype)\n",
    "\n",
    "        tflops_measure = []\n",
    "        for _ in range(num_tries):    \n",
    "            out, runtime_ms = profiler.measure(matmul_function, a, b)\n",
    "            runtime_s = 1e-3 * runtime_ms\n",
    "            tflops =  2 * M * K * N / runtime_s / 1e12\n",
    "            tflops_measure.append(tflops)\n",
    "            \n",
    "        tflops_list.append(np.median(tflops_measure))\n",
    "        tflops_list_std.append(np.std(tflops_measure))\n",
    "    return np.array(tflops_list), np.array(tflops_list_std) "
   ]
  },
  {
   "cell_type": "code",
   "execution_count": 376,
   "id": "cbb1877c-33ae-4367-bf49-f53e9ddf5cb1",
   "metadata": {},
   "outputs": [
    {
     "name": "stdout",
     "output_type": "stream",
     "text": [
      "SIZE: 512\n",
      "SIZE: 1024\n",
      "SIZE: 2048\n",
      "SIZE: 4096\n",
      "SIZE: 8192\n",
      "SIZE: 16384\n",
      "SIZE: 32768\n"
     ]
    }
   ],
   "source": [
    "fp8_matmul_out_fp8_tflops, fp8_matmul_out_fp8_tflops_std = profile_matmul(sizes, matmul_fn_out_fp8)"
   ]
  },
  {
   "cell_type": "code",
   "execution_count": 285,
   "id": "e6b49998-4120-40e3-9d71-bf54328dc0e8",
   "metadata": {},
   "outputs": [
    {
     "name": "stdout",
     "output_type": "stream",
     "text": [
      "SIZE: 512\n",
      "SIZE: 1024\n",
      "SIZE: 2048\n",
      "SIZE: 4096\n",
      "SIZE: 8192\n",
      "SIZE: 16384\n"
     ]
    },
    {
     "name": "stderr",
     "output_type": "stream",
     "text": [
      "E0716 13:04:07.082267   18659 buffer_comparator.cc:148] Difference at 251658240: 40.8438, expected 32.0938\n",
      "E0716 13:04:07.082322   18659 buffer_comparator.cc:148] Difference at 251658241: 40.75, expected 32\n",
      "E0716 13:04:07.082330   18659 buffer_comparator.cc:148] Difference at 251658242: 40.625, expected 31.875\n",
      "E0716 13:04:07.082333   18659 buffer_comparator.cc:148] Difference at 251658243: 40.75, expected 31.9219\n",
      "E0716 13:04:07.082337   18659 buffer_comparator.cc:148] Difference at 251658244: 40.7812, expected 32\n",
      "E0716 13:04:07.082341   18659 buffer_comparator.cc:148] Difference at 251658245: 40.7812, expected 32.0312\n",
      "E0716 13:04:07.082345   18659 buffer_comparator.cc:148] Difference at 251658246: 40.25, expected 31.5469\n",
      "E0716 13:04:07.082364   18659 buffer_comparator.cc:148] Difference at 251658247: 40.875, expected 32.0625\n",
      "E0716 13:04:07.082369   18659 buffer_comparator.cc:148] Difference at 251658248: 40.75, expected 32.0312\n",
      "E0716 13:04:07.082373   18659 buffer_comparator.cc:148] Difference at 251658249: 40.8125, expected 32.0625\n",
      "2024-07-16 13:04:07.122980: E external/xla/xla/service/gpu/gemm_algorithm_picker.cc:341] Results mismatch between different GEMM algorithms. This is likely a bug/unexpected loss of precision.\n"
     ]
    },
    {
     "name": "stdout",
     "output_type": "stream",
     "text": [
      "SIZE: 32768\n"
     ]
    },
    {
     "name": "stderr",
     "output_type": "stream",
     "text": [
      "E0716 13:04:21.481796   18659 buffer_comparator.cc:148] Difference at 1040187392: 75.6875, expected 50.0312\n",
      "E0716 13:04:21.481889   18659 buffer_comparator.cc:148] Difference at 1040187393: 75.875, expected 49.9375\n",
      "E0716 13:04:21.481896   18659 buffer_comparator.cc:148] Difference at 1040187394: 75.8125, expected 50.375\n",
      "E0716 13:04:21.481900   18659 buffer_comparator.cc:148] Difference at 1040187395: 75.75, expected 50.0938\n",
      "E0716 13:04:21.481918   18659 buffer_comparator.cc:148] Difference at 1040187396: 75.1875, expected 49.625\n",
      "E0716 13:04:21.481923   18659 buffer_comparator.cc:148] Difference at 1040187397: 75.3125, expected 49.625\n",
      "E0716 13:04:21.481927   18659 buffer_comparator.cc:148] Difference at 1040187398: 75.5, expected 49.9688\n",
      "E0716 13:04:21.481931   18659 buffer_comparator.cc:148] Difference at 1040187399: 75.125, expected 49.625\n",
      "E0716 13:04:21.481935   18659 buffer_comparator.cc:148] Difference at 1040187400: 75.25, expected 49.5\n",
      "E0716 13:04:21.481939   18659 buffer_comparator.cc:148] Difference at 1040187401: 75.3125, expected 49.5938\n",
      "2024-07-16 13:04:21.642371: E external/xla/xla/service/gpu/gemm_algorithm_picker.cc:341] Results mismatch between different GEMM algorithms. This is likely a bug/unexpected loss of precision.\n",
      "E0716 13:04:32.382603   18659 buffer_comparator.cc:148] Difference at 1006632960: 71.125, expected 49.6875\n",
      "E0716 13:04:32.382678   18659 buffer_comparator.cc:148] Difference at 1006632961: 71.75, expected 50.2812\n",
      "E0716 13:04:32.382687   18659 buffer_comparator.cc:148] Difference at 1006632962: 71.3125, expected 50.0938\n",
      "E0716 13:04:32.382693   18659 buffer_comparator.cc:148] Difference at 1006632963: 71.4375, expected 50.4375\n",
      "E0716 13:04:32.382696   18659 buffer_comparator.cc:148] Difference at 1006632964: 71.625, expected 50.5\n",
      "E0716 13:04:32.382700   18659 buffer_comparator.cc:148] Difference at 1006632965: 71.0625, expected 49.5938\n",
      "E0716 13:04:32.382704   18659 buffer_comparator.cc:148] Difference at 1006632966: 70.75, expected 49.6875\n",
      "E0716 13:04:32.382708   18659 buffer_comparator.cc:148] Difference at 1006632967: 71.375, expected 50.2188\n",
      "E0716 13:04:32.382712   18659 buffer_comparator.cc:148] Difference at 1006632968: 71.6875, expected 50.5938\n",
      "E0716 13:04:32.382716   18659 buffer_comparator.cc:148] Difference at 1006632969: 71.25, expected 50\n",
      "2024-07-16 13:04:32.542458: E external/xla/xla/service/gpu/gemm_algorithm_picker.cc:341] Results mismatch between different GEMM algorithms. This is likely a bug/unexpected loss of precision.\n",
      "E0716 13:04:35.457610   18659 buffer_comparator.cc:148] Difference at 31744: 75.875, expected 49.9375\n",
      "E0716 13:04:35.457656   18659 buffer_comparator.cc:148] Difference at 31745: 76.125, expected 50.1562\n",
      "E0716 13:04:35.457664   18659 buffer_comparator.cc:148] Difference at 31746: 75.9375, expected 50.2812\n",
      "E0716 13:04:35.457667   18659 buffer_comparator.cc:148] Difference at 31747: 76.125, expected 50.75\n",
      "E0716 13:04:35.457671   18659 buffer_comparator.cc:148] Difference at 31748: 75.25, expected 49.5938\n",
      "E0716 13:04:35.457676   18659 buffer_comparator.cc:148] Difference at 31749: 76.0625, expected 50.4062\n",
      "E0716 13:04:35.457680   18659 buffer_comparator.cc:148] Difference at 31750: 75.375, expected 49.8125\n",
      "E0716 13:04:35.457684   18659 buffer_comparator.cc:148] Difference at 31751: 76.3125, expected 50.4688\n",
      "E0716 13:04:35.457688   18659 buffer_comparator.cc:148] Difference at 31752: 75.75, expected 49.875\n",
      "E0716 13:04:35.457692   18659 buffer_comparator.cc:148] Difference at 31753: 75.6875, expected 50.1562\n",
      "2024-07-16 13:04:35.617255: E external/xla/xla/service/gpu/gemm_algorithm_picker.cc:341] Results mismatch between different GEMM algorithms. This is likely a bug/unexpected loss of precision.\n"
     ]
    }
   ],
   "source": [
    "fp8_matmul_out_fp16_tflops, fp8_matmul_out_fp16_tflops_std = profile_matmul(sizes, matmul_fn_out_fp16)"
   ]
  },
  {
   "cell_type": "code",
   "execution_count": 291,
   "id": "d2251b3a-f50d-4952-8a03-9d9d672bd5ab",
   "metadata": {},
   "outputs": [
    {
     "name": "stdout",
     "output_type": "stream",
     "text": [
      "SIZE: 512\n",
      "SIZE: 1024\n",
      "SIZE: 2048\n",
      "SIZE: 4096\n",
      "SIZE: 8192\n",
      "SIZE: 16384\n",
      "SIZE: 32768\n"
     ]
    }
   ],
   "source": [
    "fp8_matmul_out_fp8_high_tflops, fp8_matmul_out_fp8_high_tflops_std = profile_matmul(sizes, matmul_fn_out_fp8_high)"
   ]
  },
  {
   "cell_type": "code",
   "execution_count": 299,
   "id": "c22f51f9-110c-4bd9-be77-4cea38d1881a",
   "metadata": {},
   "outputs": [
    {
     "name": "stdout",
     "output_type": "stream",
     "text": [
      "SIZE: 512\n",
      "SIZE: 1024\n",
      "SIZE: 2048\n",
      "SIZE: 4096\n",
      "SIZE: 8192\n",
      "SIZE: 16384\n",
      "SIZE: 32768\n"
     ]
    }
   ],
   "source": [
    "fp8_matmul_with_amax_tflops, fp8_matmul_with_amax_tflops_std = profile_matmul(sizes, matmul_fn_with_amax)"
   ]
  },
  {
   "cell_type": "code",
   "execution_count": 359,
   "id": "3a5a5b2d-ef65-40aa-91d8-95cd06d71f1c",
   "metadata": {},
   "outputs": [
    {
     "name": "stdout",
     "output_type": "stream",
     "text": [
      "SIZE: 512\n",
      "SIZE: 1024\n",
      "SIZE: 2048\n",
      "SIZE: 4096\n",
      "SIZE: 8192\n",
      "SIZE: 16384\n",
      "SIZE: 32768\n"
     ]
    }
   ],
   "source": [
    "fp8_matmul_zeros_tflops, fp8_matmul_zeros_std = profile_matmul(sizes, matmul_fn_out_fp8, zeros=True)"
   ]
  },
  {
   "cell_type": "code",
   "execution_count": null,
   "id": "47c4cb00-1924-444b-b63e-3791ed48c81c",
   "metadata": {},
   "outputs": [],
   "source": []
  },
  {
   "cell_type": "code",
   "execution_count": 300,
   "id": "bc6bb618-f125-48e0-a8ff-cdbdb361b88b",
   "metadata": {},
   "outputs": [
    {
     "data": {
      "text/plain": [
       "(array([   6.75683383,   49.43563485,  334.29072867, 1197.7041882 ,\n",
       "        1584.01854187, 1630.71317895, 1404.15139473]),\n",
       " array([   6.86746581,   49.96937075,  337.33645064, 1251.08374496,\n",
       "        1585.88289938, 1631.07119913, 1388.14695343]),\n",
       " array([   6.51289427,   50.93652571,  323.80633002, 1120.96236185,\n",
       "        1404.4733467 , 1460.53558441, 1247.39871242]),\n",
       " array([   5.37731281,   40.40270319,  281.52643983, 1161.4297762 ,\n",
       "        1580.19401643, 1631.83614113, 1356.14182692]))"
      ]
     },
     "execution_count": 300,
     "metadata": {},
     "output_type": "execute_result"
    }
   ],
   "source": [
    "fp8_matmul_out_fp8_tflops, fp8_matmul_out_fp16_tflops, fp8_matmul_out_fp8_high_tflops, fp8_matmul_with_amax_tflops"
   ]
  },
  {
   "cell_type": "code",
   "execution_count": 289,
   "id": "a845088e-82a7-4094-bcf4-18b8d942fcc8",
   "metadata": {},
   "outputs": [
    {
     "data": {
      "text/plain": [
       "(array([0.00341427, 0.02498011, 0.16891901, 0.60520677, 0.80041361,\n",
       "        0.82400868, 0.70952572]),)"
      ]
     },
     "execution_count": 289,
     "metadata": {},
     "output_type": "execute_result"
    }
   ],
   "source": [
    "fp8_matmul_out_fp8_tflops / 1979.0, "
   ]
  },
  {
   "cell_type": "code",
   "execution_count": 363,
   "id": "de416282-1c7b-49c7-9032-413aec5c2a32",
   "metadata": {},
   "outputs": [],
   "source": [
    "import seaborn as sns\n",
    "import pandas as pd\n",
    "import matplotlib\n",
    "sns.set_theme()"
   ]
  },
  {
   "cell_type": "code",
   "execution_count": 380,
   "id": "1cca164c-f282-4ab3-8dac-50abba95bdc4",
   "metadata": {},
   "outputs": [],
   "source": [
    "df = pd.DataFrame.from_dict({\n",
    "    \"size\": sizes,\n",
    "    \"FP8 x FP8 -> FP16\": fp8_matmul_out_fp16_tflops,\n",
    "    \"FP8 x FP8 -> FP8\": fp8_matmul_out_fp8_tflops,\n",
    "    \"FP8 x FP8 -> FP8 with amax\": fp8_matmul_with_amax_tflops,\n",
    "    \"FP8 x FP8 -> FP8 no fast acc.\": fp8_matmul_out_fp8_high_tflops,\n",
    "    \"FP8 x FP8 -> FP8 with zeros\": fp8_matmul_zeros_tflops,\n",
    "    \"peak\": np.array([1979.0] * len(sizes)),\n",
    "})\n",
    "df = df.set_index(\"size\")"
   ]
  },
  {
   "cell_type": "code",
   "execution_count": 381,
   "id": "4fbadee9-e94e-45dc-8515-a8f82be887a5",
   "metadata": {},
   "outputs": [
    {
     "data": {
      "text/html": [
       "<div>\n",
       "<style scoped>\n",
       "    .dataframe tbody tr th:only-of-type {\n",
       "        vertical-align: middle;\n",
       "    }\n",
       "\n",
       "    .dataframe tbody tr th {\n",
       "        vertical-align: top;\n",
       "    }\n",
       "\n",
       "    .dataframe thead th {\n",
       "        text-align: right;\n",
       "    }\n",
       "</style>\n",
       "<table border=\"1\" class=\"dataframe\">\n",
       "  <thead>\n",
       "    <tr style=\"text-align: right;\">\n",
       "      <th></th>\n",
       "      <th>FP8 x FP8 -&gt; FP16</th>\n",
       "      <th>FP8 x FP8 -&gt; FP8</th>\n",
       "      <th>FP8 x FP8 -&gt; FP8 with amax</th>\n",
       "      <th>FP8 x FP8 -&gt; FP8 no fast acc.</th>\n",
       "      <th>FP8 x FP8 -&gt; FP8 with zeros</th>\n",
       "      <th>peak</th>\n",
       "    </tr>\n",
       "    <tr>\n",
       "      <th>size</th>\n",
       "      <th></th>\n",
       "      <th></th>\n",
       "      <th></th>\n",
       "      <th></th>\n",
       "      <th></th>\n",
       "      <th></th>\n",
       "    </tr>\n",
       "  </thead>\n",
       "  <tbody>\n",
       "    <tr>\n",
       "      <th>512</th>\n",
       "      <td>6.867466</td>\n",
       "      <td>6.751396</td>\n",
       "      <td>5.377313</td>\n",
       "      <td>6.512894</td>\n",
       "      <td>6.859042</td>\n",
       "      <td>1979.0</td>\n",
       "    </tr>\n",
       "    <tr>\n",
       "      <th>1024</th>\n",
       "      <td>49.969371</td>\n",
       "      <td>50.025251</td>\n",
       "      <td>40.402703</td>\n",
       "      <td>50.936526</td>\n",
       "      <td>50.382058</td>\n",
       "      <td>1979.0</td>\n",
       "    </tr>\n",
       "    <tr>\n",
       "      <th>2048</th>\n",
       "      <td>337.336451</td>\n",
       "      <td>335.754308</td>\n",
       "      <td>281.526440</td>\n",
       "      <td>323.806330</td>\n",
       "      <td>342.830007</td>\n",
       "      <td>1979.0</td>\n",
       "    </tr>\n",
       "    <tr>\n",
       "      <th>4096</th>\n",
       "      <td>1251.083745</td>\n",
       "      <td>1202.566831</td>\n",
       "      <td>1161.429776</td>\n",
       "      <td>1120.962362</td>\n",
       "      <td>1294.444751</td>\n",
       "      <td>1979.0</td>\n",
       "    </tr>\n",
       "    <tr>\n",
       "      <th>8192</th>\n",
       "      <td>1585.882899</td>\n",
       "      <td>1586.871639</td>\n",
       "      <td>1580.194016</td>\n",
       "      <td>1404.473347</td>\n",
       "      <td>1741.408866</td>\n",
       "      <td>1979.0</td>\n",
       "    </tr>\n",
       "    <tr>\n",
       "      <th>16384</th>\n",
       "      <td>1631.071199</td>\n",
       "      <td>1631.250340</td>\n",
       "      <td>1631.836141</td>\n",
       "      <td>1460.535584</td>\n",
       "      <td>1860.507606</td>\n",
       "      <td>1979.0</td>\n",
       "    </tr>\n",
       "    <tr>\n",
       "      <th>32768</th>\n",
       "      <td>1388.146953</td>\n",
       "      <td>1385.183192</td>\n",
       "      <td>1356.141827</td>\n",
       "      <td>1247.398712</td>\n",
       "      <td>1639.637944</td>\n",
       "      <td>1979.0</td>\n",
       "    </tr>\n",
       "  </tbody>\n",
       "</table>\n",
       "</div>"
      ],
      "text/plain": [
       "       FP8 x FP8 -> FP16  FP8 x FP8 -> FP8  FP8 x FP8 -> FP8 with amax  \\\n",
       "size                                                                     \n",
       "512             6.867466          6.751396                    5.377313   \n",
       "1024           49.969371         50.025251                   40.402703   \n",
       "2048          337.336451        335.754308                  281.526440   \n",
       "4096         1251.083745       1202.566831                 1161.429776   \n",
       "8192         1585.882899       1586.871639                 1580.194016   \n",
       "16384        1631.071199       1631.250340                 1631.836141   \n",
       "32768        1388.146953       1385.183192                 1356.141827   \n",
       "\n",
       "       FP8 x FP8 -> FP8 no fast acc.  FP8 x FP8 -> FP8 with zeros    peak  \n",
       "size                                                                       \n",
       "512                         6.512894                     6.859042  1979.0  \n",
       "1024                       50.936526                    50.382058  1979.0  \n",
       "2048                      323.806330                   342.830007  1979.0  \n",
       "4096                     1120.962362                  1294.444751  1979.0  \n",
       "8192                     1404.473347                  1741.408866  1979.0  \n",
       "16384                    1460.535584                  1860.507606  1979.0  \n",
       "32768                    1247.398712                  1639.637944  1979.0  "
      ]
     },
     "execution_count": 381,
     "metadata": {},
     "output_type": "execute_result"
    }
   ],
   "source": [
    "df"
   ]
  },
  {
   "cell_type": "code",
   "execution_count": 382,
   "id": "a53af65c-2e3d-4d2d-87a8-8d485b223861",
   "metadata": {},
   "outputs": [
    {
     "data": {
      "image/png": "[encoded data removed]",
      "text/plain": [
       "<Figure size 1000x600 with 1 Axes>"
      ]
     },
     "metadata": {},
     "output_type": "display_data"
    }
   ],
   "source": [
    "sns.set_theme(rc={'figure.figsize':(10, 6)})\n",
    "\n",
    "ax = sns.lineplot(df, markers=True, dashes=False)\n",
    "\n",
    "ax.set_xscale('log')\n",
    "ax.set_title(\"H100 SXM5 FP8 matmul tflops\")\n",
    "# ax.set_xticks(sizes)\n",
    "ax.set_xticks(sizes)\n",
    "ax.get_xaxis().set_major_formatter(matplotlib.ticker.ScalarFormatter())\n",
    "\n",
    "ax.figure.savefig(\"matmul_tflops.png\", dpi=600, bbox_inches='tight')"
   ]
  },
  {
   "cell_type": "code",
   "execution_count": null,
   "id": "13bf741d-6cd7-4aac-80eb-d710f9b64d7d",
   "metadata": {},
   "outputs": [],
   "source": []
  },
  {
   "cell_type": "code",
   "execution_count": 370,
   "id": "c7b8d62e-dfb2-4c57-870c-bb850a15a750",
   "metadata": {},
   "outputs": [
    {
     "data": {
      "text/plain": [
       "array([0.00342254, 0.02525922, 0.17029751, 0.60808953, 0.80102293,\n",
       "       0.82444889, 0.70729535])"
      ]
     },
     "execution_count": 370,
     "metadata": {},
     "output_type": "execute_result"
    }
   ],
   "source": [
    "fp8_matmul_out_fp8_tflops / 1979.0"
   ]
  },
  {
   "cell_type": "code",
   "execution_count": 372,
   "id": "524e8ae9-aa1b-4bf4-a849-ae1ba5fe7e20",
   "metadata": {},
   "outputs": [
    {
     "data": {
      "text/plain": [
       "array([0.00346591, 0.02545834, 0.17323396, 0.65409032, 0.87994384,\n",
       "       0.94012512, 0.82851842])"
      ]
     },
     "execution_count": 372,
     "metadata": {},
     "output_type": "execute_result"
    }
   ],
   "source": [
    "fp8_matmul_zeros_tflops / 1979"
   ]
  },
  {
   "cell_type": "code",
   "execution_count": 371,
   "id": "21d5e40d-1dac-47af-9247-7c630f4d8e79",
   "metadata": {},
   "outputs": [
    {
     "data": {
      "text/plain": [
       "1.024"
      ]
     },
     "execution_count": 371,
     "metadata": {},
     "output_type": "execute_result"
    }
   ],
   "source": [
    "32000**2/1e9"
   ]
  },
  {
   "cell_type": "code",
   "execution_count": 374,
   "id": "a96c9f7e-be5f-4d40-8e1a-c19c9282b105",
   "metadata": {},
   "outputs": [
    {
     "data": {
      "text/plain": [
       "array([1.03996789, 0.98137805, 1.04080353, 1.07355004, 1.12869666,\n",
       "       1.11711373, 1.12212517])"
      ]
     },
     "execution_count": 374,
     "metadata": {},
     "output_type": "execute_result"
    }
   ],
   "source": [
    "fp8_matmul_out_fp8_tflops / fp8_matmul_out_fp8_high_tflops"
   ]
  },
  {
   "cell_type": "code",
   "execution_count": 375,
   "id": "3203f5e3-006c-47ec-82f7-a8af857c9151",
   "metadata": {},
   "outputs": [
    {
     "data": {
      "text/plain": [
       "array([ 0.44747028,  4.15991172, 15.89276573, 28.93489917,  2.31982237,\n",
       "        1.83219627, 25.08537647])"
      ]
     },
     "execution_count": 375,
     "metadata": {},
     "output_type": "execute_result"
    }
   ],
   "source": [
    "fp8_matmul_out_fp8_tflops_std"
   ]
  },
  {
   "cell_type": "code",
   "execution_count": null,
   "id": "8ea3a569-c41d-4def-bbd0-93c4aa4f744a",
   "metadata": {},
   "outputs": [],
   "source": []
  }
 ],
 "metadata": {
  "kernelspec": {
   "display_name": "Python 3 (ipykernel)",
   "language": "python",
   "name": "python3"
  },
  "language_info": {
   "codemirror_mode": {
    "name": "ipython",
    "version": 3
   },
   "file_extension": ".py",
   "mimetype": "text/x-python",
   "name": "python",
   "nbconvert_exporter": "python",
   "pygments_lexer": "ipython3",
   "version": "3.10.12"
  }
 },
 "nbformat": 4,
 "nbformat_minor": 5
}
